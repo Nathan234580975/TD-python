{
 "cells": [
  {
   "cell_type": "code",
   "execution_count": 1,
   "id": "ff95c6d7-d53d-4377-9b1b-bd4c9443d91e",
   "metadata": {},
   "outputs": [
    {
     "name": "stdout",
     "output_type": "stream",
     "text": [
      "y = 28\n",
      "z = 42\n"
     ]
    }
   ],
   "source": [
    "class MaClasse:\n",
    "    # Attributs de classe\n",
    "    x = 23\n",
    "    y = x + 5\n",
    "\n",
    "    # Méthode affiche\n",
    "    def affiche(self):\n",
    "        z = 42  # Attribut d'instance\n",
    "        print(f\"y = {MaClasse.y}\")\n",
    "        print(f\"z = {z}\")\n",
    "\n",
    "# Programme principal\n",
    "if __name__ == \"__main__\":\n",
    "    # Instanciation d'un objet de la classe MaClasse\n",
    "    objet = MaClasse()\n",
    "    # Invocation de la méthode affiche\n",
    "    objet.affiche()\n"
   ]
  },
  {
   "cell_type": "code",
   "execution_count": 3,
   "id": "17fd42a6-b234-49d7-89e6-adf63cce6b1a",
   "metadata": {},
   "outputs": [
    {
     "name": "stdout",
     "output_type": "stream",
     "text": [
      "Vecteur2D(x=0, y=0)\n",
      "Vecteur2D(x=3, y=4)\n"
     ]
    }
   ],
   "source": [
    "class Vecteur2D:\n",
    "    def __init__(self, x=0, y=0):\n",
    "        self.x = x\n",
    "        self.y = y\n",
    "\n",
    "    def __str__(self):\n",
    "        return f\"Vecteur2D(x={self.x}, y={self.y})\"\n",
    "\n",
    "# Programme principal\n",
    "if __name__ == \"__main__\":\n",
    "    # Instanciation d'un Vecteur2D sans paramètre\n",
    "    vecteur_default = Vecteur2D()\n",
    "    print(vecteur_default)\n",
    "\n",
    "    # Instanciation d'un Vecteur2D avec deux paramètres\n",
    "    vecteur_param = Vecteur2D(3, 4)\n",
    "    print(vecteur_param)\n"
   ]
  },
  {
   "cell_type": "code",
   "execution_count": 5,
   "id": "82520a4d-ad50-4a0f-beb6-22233135aac4",
   "metadata": {},
   "outputs": [
    {
     "name": "stdout",
     "output_type": "stream",
     "text": [
      "Vecteur2D(x=1, y=2)\n",
      "Vecteur2D(x=3, y=4)\n",
      "Somme des vecteurs :\n",
      "Vecteur2D(x=4, y=6)\n"
     ]
    }
   ],
   "source": [
    "class Vecteur2D:\n",
    "    def __init__(self, x=0, y=0):\n",
    "        self.x = x\n",
    "        self.y = y\n",
    "\n",
    "    def afficher(self):\n",
    "        print(f\"Vecteur2D(x={self.x}, y={self.y})\")\n",
    "\n",
    "    def __add__(self, other):\n",
    "        return Vecteur2D(self.x + other.x, self.y + other.y)\n",
    "\n",
    "    def __str__(self):\n",
    "        return f\"Vecteur2D(x={self.x}, y={self.y})\"\n",
    "\n",
    "# Programme principal\n",
    "if __name__ == \"__main__\":\n",
    "    # Instanciation de deux Vecteur2D\n",
    "    vecteur1 = Vecteur2D(1, 2)\n",
    "    vecteur2 = Vecteur2D(3, 4)\n",
    "\n",
    "    # Affichage des vecteurs\n",
    "    vecteur1.afficher()\n",
    "    vecteur2.afficher()\n",
    "\n",
    "    # Addition des deux vecteurs\n",
    "    somme_vecteurs = vecteur1 + vecteur2\n",
    "\n",
    "    # Affichage de la somme\n",
    "    print(\"Somme des vecteurs :\")\n",
    "    somme_vecteurs.afficher()\n"
   ]
  },
  {
   "cell_type": "code",
   "execution_count": 7,
   "id": "b0019d0a-ce7c-4214-b322-4569f7bb09f0",
   "metadata": {},
   "outputs": [
    {
     "name": "stdout",
     "output_type": "stream",
     "text": [
      "rectangle : longueur = 2, largeur = 3\n",
      "Surface du rectangle : 6\n",
      "carré : longueur = 4, largeur = 4\n",
      "Surface du carré : 16\n"
     ]
    }
   ],
   "source": [
    "class Rectangle:\n",
    "    def __init__(self, longueur=1, largeur=1):\n",
    "        self.longueur = longueur\n",
    "        self.largeur = largeur\n",
    "        self.nom = \"rectangle\"\n",
    "    \n",
    "    def afficher(self):\n",
    "        print(f\"{self.nom} : longueur = {self.longueur}, largeur = {self.largeur}\")\n",
    "\n",
    "    def surface(self):\n",
    "        return self.longueur * self.largeur\n",
    "\n",
    "### Définition de la Classe `Carre` (Héritant de Rectangle)\n",
    "class Carre(Rectangle):\n",
    "    def __init__(self, cote=1):\n",
    "        super().__init__(cote, cote)\n",
    "        self.nom = \"carré\"\n",
    "\n",
    "### Programme Principal\n",
    "if __name__ == \"__main__\":\n",
    "    # Instanciation d'un Rectangle\n",
    "    rectangle = Rectangle(2, 3)\n",
    "    rectangle.afficher()\n",
    "    print(\"Surface du rectangle :\", rectangle.surface())\n",
    "\n",
    "    # Instanciation d'un Carré\n",
    "    carre = Carre(4)\n",
    "    carre.afficher()\n",
    "    print(\"Surface du carré :\", carre.surface())\n"
   ]
  },
  {
   "cell_type": "code",
   "execution_count": 9,
   "id": "37a4d283-c66a-41cd-8017-3536c4ec3843",
   "metadata": {},
   "outputs": [],
   "source": [
    "class Point:\n",
    "    def __init__(self, x=0.0, y=0.0):\n",
    "        self.x = x\n",
    "        self.y = y\n",
    "\n",
    "    def __str__(self):\n",
    "        return f\"Point(x={self.x}, y={self.y})\"\n"
   ]
  },
  {
   "cell_type": "code",
   "execution_count": 11,
   "id": "3e7030f7-c634-4d52-baf9-6dbc71f88933",
   "metadata": {},
   "outputs": [
    {
     "name": "stdout",
     "output_type": "stream",
     "text": [
      "Segment de Point(x=1, y=2) à Point(x=3, y=4)\n"
     ]
    }
   ],
   "source": [
    "class Segment:\n",
    "    def __init__(self, x1, y1, x2, y2):\n",
    "        self.orig = Point(x1, y1)\n",
    "        self.extrem = Point(x2, y2)\n",
    "\n",
    "    def afficher(self):\n",
    "        print(f\"Segment de {self.orig} à {self.extrem}\")\n",
    "\n",
    "### Programme Principal pour l'Auto-Test\n",
    "if __name__ == \"__main__\":\n",
    "    segment = Segment(1, 2, 3, 4)\n",
    "    segment.afficher()\n"
   ]
  },
  {
   "cell_type": "code",
   "execution_count": 13,
   "id": "c5019c8e-242d-4804-9de6-70290bae892b",
   "metadata": {},
   "outputs": [
    {
     "name": "stdout",
     "output_type": "stream",
     "text": [
      "123\n",
      "142\n"
     ]
    }
   ],
   "source": [
    "def creer_plus(ajout):\n",
    "    def plus(increment):\n",
    "        return ajout + increment\n",
    "    return plus\n",
    "\n",
    "# Programme principal\n",
    "if __name__ == \"__main__\":\n",
    "    # Création de deux fonctions fermetures\n",
    "    p = creer_plus(23)\n",
    "    q = creer_plus(42)\n",
    "\n",
    "    # Affichage des valeurs données par les fonctions fermetures\n",
    "    print(p(100))  # Devrait afficher 123\n",
    "    print(q(100))  # Devrait afficher 142\n"
   ]
  },
  {
   "cell_type": "code",
   "execution_count": 15,
   "id": "76ad3de9-1615-4132-866c-51cc4d1ac0aa",
   "metadata": {},
   "outputs": [],
   "source": [
    "class CasNormal:\n",
    "    def uneMethode(self):\n",
    "        print(\"normal\")\n"
   ]
  },
  {
   "cell_type": "code",
   "execution_count": 17,
   "id": "7695874a-b2e1-4682-b55a-f08eee8db215",
   "metadata": {},
   "outputs": [],
   "source": [
    "class CasSpecial:\n",
    "    def uneMethode(self):\n",
    "        print(\"spécial\")\n"
   ]
  },
  {
   "cell_type": "code",
   "execution_count": 19,
   "id": "8a448e2a-9a02-4ff0-8850-bd50fa67dbbd",
   "metadata": {},
   "outputs": [],
   "source": [
    "def casQuiConvient(estNormal=True):\n",
    "    if estNormal:\n",
    "        return CasNormal()\n",
    "    else:\n",
    "        return CasSpecial()\n"
   ]
  },
  {
   "cell_type": "code",
   "execution_count": 21,
   "id": "1b8df32e-1920-417b-9448-d9ecd921e1b5",
   "metadata": {},
   "outputs": [
    {
     "name": "stdout",
     "output_type": "stream",
     "text": [
      "normal\n",
      "spécial\n"
     ]
    }
   ],
   "source": [
    "if __name__ == \"__main__\":\n",
    "    # Créer une instance avec la fabrique\n",
    "    instance_normale = casQuiConvient(True)\n",
    "    instance_speciale = casQuiConvient(False)\n",
    "\n",
    "    # Vérifier le type de l'instance en appelant la méthode uneMethode\n",
    "    instance_normale.uneMethode()  # Devrait afficher \"normal\"\n",
    "    instance_speciale.uneMethode()  # Devrait afficher \"spécial\"\n"
   ]
  },
  {
   "cell_type": "code",
   "execution_count": null,
   "id": "19835ad3-1be1-495f-9d75-6c1c596e4fdb",
   "metadata": {},
   "outputs": [],
   "source": []
  }
 ],
 "metadata": {
  "kernelspec": {
   "display_name": "Python 3 (ipykernel)",
   "language": "python",
   "name": "python3"
  },
  "language_info": {
   "codemirror_mode": {
    "name": "ipython",
    "version": 3
   },
   "file_extension": ".py",
   "mimetype": "text/x-python",
   "name": "python",
   "nbconvert_exporter": "python",
   "pygments_lexer": "ipython3",
   "version": "3.12.7"
  }
 },
 "nbformat": 4,
 "nbformat_minor": 5
}
